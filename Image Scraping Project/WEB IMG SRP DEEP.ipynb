{
 "cells": [
  {
   "cell_type": "code",
   "execution_count": 1,
   "metadata": {},
   "outputs": [],
   "source": [
    "import pandas as pd\n",
    "import selenium\n",
    "from selenium import webdriver\n",
    "import time\n",
    "from selenium.common.exceptions import StaleElementReferenceException, NoSuchElementException\n",
    "import urllib"
   ]
  },
  {
   "cell_type": "code",
   "execution_count": 2,
   "metadata": {},
   "outputs": [
    {
     "name": "stdout",
     "output_type": "stream",
     "text": [
      "Paste the link here: https://www.amazon.in/s?rh=n%3A1968076031&fs=true&ref=lp_1968076031_sar\n"
     ]
    }
   ],
   "source": [
    "driver=webdriver.Chrome(\"C:\\\\Users\\\\chromedriver.exe\") \n",
    "time.sleep(3)\n",
    "\n",
    "url = input(\"Paste the link here: \")\n",
    "driver.get(url)"
   ]
  },
  {
   "cell_type": "code",
   "execution_count": 4,
   "metadata": {},
   "outputs": [],
   "source": [
    "k=0\n",
    "for i in range(1,16):\n",
    "    time.sleep(10)    \n",
    "    \n",
    "    img = driver.find_elements_by_xpath('//div[@class=\"a-section aok-relative s-image-tall-aspect\"]/img')\n",
    "    \n",
    "\n",
    "\n",
    "    for i in img:\n",
    "        k=k+1\n",
    "\n",
    "\n",
    "\n",
    "\n",
    "        try:\n",
    "            srce = i.get_attribute('src')\n",
    "            o=\"C:\\\\Users\\\\Admin\\\\Downloads\\\\Image Scraping and Classification Project\\\\jeans\\\\jeans_%s.jpg\"%k\n",
    "            urllib.request.urlretrieve(srce,o)\n",
    "            print(j)\n",
    "        except:\n",
    "            continue\n",
    "            \n",
    "    time.sleep(5)\n",
    "            \n",
    "    try:\n",
    "        nxt_button=driver.find_element_by_xpath(\"//a[@class='s-pagination-item s-pagination-next s-pagination-button s-pagination-separator']\")#scraping the list of buttons from the page\n",
    "        nxt_button.click()\n",
    "    except:\n",
    "        nxt_button=driver.find_element_by_xpath(\"//li[@class='a-last']/a\")#scraping the list of buttons from the page\n",
    "        nxt_button.click()\n",
    "            \n",
    "            \n",
    "        "
   ]
  },
  {
   "cell_type": "code",
   "execution_count": null,
   "metadata": {},
   "outputs": [],
   "source": []
  },
  {
   "cell_type": "code",
   "execution_count": null,
   "metadata": {},
   "outputs": [],
   "source": []
  },
  {
   "cell_type": "code",
   "execution_count": null,
   "metadata": {},
   "outputs": [],
   "source": []
  },
  {
   "cell_type": "code",
   "execution_count": null,
   "metadata": {},
   "outputs": [],
   "source": []
  },
  {
   "cell_type": "code",
   "execution_count": null,
   "metadata": {},
   "outputs": [],
   "source": []
  },
  {
   "cell_type": "code",
   "execution_count": null,
   "metadata": {},
   "outputs": [],
   "source": []
  },
  {
   "cell_type": "code",
   "execution_count": null,
   "metadata": {},
   "outputs": [],
   "source": []
  },
  {
   "cell_type": "code",
   "execution_count": null,
   "metadata": {},
   "outputs": [],
   "source": []
  },
  {
   "cell_type": "code",
   "execution_count": null,
   "metadata": {},
   "outputs": [],
   "source": []
  }
 ],
 "metadata": {
  "kernelspec": {
   "display_name": "Python 3",
   "language": "python",
   "name": "python3"
  },
  "language_info": {
   "codemirror_mode": {
    "name": "ipython",
    "version": 3
   },
   "file_extension": ".py",
   "mimetype": "text/x-python",
   "name": "python",
   "nbconvert_exporter": "python",
   "pygments_lexer": "ipython3",
   "version": "3.8.5"
  }
 },
 "nbformat": 4,
 "nbformat_minor": 4
}
